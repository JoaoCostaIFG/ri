{
 "cells": [
  {
   "cell_type": "code",
   "execution_count": null,
   "id": "3820c676-1a2d-45cf-91d6-a0ddf6c45b05",
   "metadata": {},
   "outputs": [],
   "source": [
    "import pandas as pd\n",
    "import matplotlib.pyplot as plt\n",
    "import matplotlib.image as mpimg"
   ]
  },
  {
   "cell_type": "code",
   "execution_count": null,
   "id": "2ba578a2-a813-460f-ac7a-7861157de40b",
   "metadata": {},
   "outputs": [],
   "source": [
    "def printLoop(fileName, title):    \n",
    "    df = pd.read_csv(fileName)\n",
    "    print(\"Loop time:\", max(df[\"sec\"]) - min(df[\"sec\"]))\n",
    "\n",
    "    fig, ax = plt.subplots()\n",
    "    ax.set_aspect('equal', 'box')\n",
    "    ax.set_title(title)\n",
    "    plt.scatter(df[\"x\"], df[\"y\"]);"
   ]
  },
  {
   "cell_type": "code",
   "execution_count": null,
   "id": "23c4efdd-82e1-473b-aa87-177055b1c99b",
   "metadata": {},
   "outputs": [],
   "source": [
    "printLoop(\"first.csv\", \"First experiment\")"
   ]
  },
  {
   "cell_type": "code",
   "execution_count": null,
   "id": "09b6351f-8694-457a-8600-7e6898bb3559",
   "metadata": {},
   "outputs": [],
   "source": [
    "printLoop(\"second.csv\", \"Second experiment\")"
   ]
  },
  {
   "cell_type": "code",
   "execution_count": null,
   "id": "63d9f182-24a5-4122-b6d0-099b3ac442c1",
   "metadata": {},
   "outputs": [],
   "source": [
    "printLoop(\"third.csv\", \"Third experiment\")"
   ]
  },
  {
   "cell_type": "code",
   "execution_count": null,
   "id": "f0a277c9-a74a-4bdc-aa93-b62b22ec5226",
   "metadata": {},
   "outputs": [],
   "source": [
    "printLoop(\"fourth.csv\", \"Fourth experiment\")"
   ]
  },
  {
   "cell_type": "code",
   "execution_count": null,
   "id": "fb5aa5b9-6aec-45d4-b6fb-6f81cddd2c45",
   "metadata": {},
   "outputs": [],
   "source": [
    "printLoop(\"third.csv\", \"10Hz\")\n",
    "printLoop(\"fifth.csv\", \"100Hz\")"
   ]
  },
  {
   "cell_type": "code",
   "execution_count": null,
   "id": "4dfed1bc-35b8-401e-99bc-ee310b462b41",
   "metadata": {},
   "outputs": [],
   "source": []
  }
 ],
 "metadata": {
  "kernelspec": {
   "display_name": "Python 3 (ipykernel)",
   "language": "python",
   "name": "python3"
  },
  "language_info": {
   "codemirror_mode": {
    "name": "ipython",
    "version": 3
   },
   "file_extension": ".py",
   "mimetype": "text/x-python",
   "name": "python",
   "nbconvert_exporter": "python",
   "pygments_lexer": "ipython3",
   "version": "3.10.8"
  }
 },
 "nbformat": 4,
 "nbformat_minor": 5
}
